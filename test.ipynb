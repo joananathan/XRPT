{
 "cells": [
  {
   "cell_type": "code",
   "execution_count": 3,
   "id": "4b0aca60",
   "metadata": {},
   "outputs": [],
   "source": [
    "import assemblyai as aai\n",
    "import os\n",
    "\n",
    "api_key = \"b400692d86c34501a858a7779e0691a0\"\n",
    "\n",
    "aai.settings.api_key = api_key\n",
    "\n",
    "# Transcribe the downloaded audio file\n",
    "transcriber = aai.Transcriber()\n",
    "transcript = transcriber.transcribe(f\"output_real.mp4\")\n",
    "sentences = transcript.get_sentences()\n"
   ]
  },
  {
   "cell_type": "code",
   "execution_count": 7,
   "id": "eaccd1a7",
   "metadata": {},
   "outputs": [],
   "source": [
    "def format_ms(milliseconds):\n",
    "    seconds, ms = divmod(milliseconds, 1000)\n",
    "    minutes, seconds = divmod(seconds, 60)\n",
    "    hours, minutes = divmod(minutes, 60)\n",
    "\n",
    "    formatted = f\"{hours:02}:{minutes:02}:{seconds:02},{ms:03}\"\n",
    "    print(formatted)  # Output: 00:00:01,050\n"
   ]
  },
  {
   "cell_type": "code",
   "execution_count": 9,
   "id": "72a42a7d",
   "metadata": {},
   "outputs": [
    {
     "name": "stdout",
     "output_type": "stream",
     "text": [
      "00:00:01,500\n"
     ]
    }
   ],
   "source": [
    "format_ms(1500)"
   ]
  },
  {
   "cell_type": "code",
   "execution_count": null,
   "id": "9e4e3c50",
   "metadata": {},
   "outputs": [],
   "source": [
    "def write_srt(srt_file, i, text, start, end):\n",
    "    srt_file.write(f\"{i}\\n\")\n",
    "    srt_file.write(f\"{format_ms(start)}  --> {format_ms(end)}\")"
   ]
  },
  {
   "cell_type": "code",
   "execution_count": 23,
   "id": "6ae297b6",
   "metadata": {},
   "outputs": [
    {
     "name": "stdout",
     "output_type": "stream",
     "text": [
      "Somehow have unrestricted access to all\n",
      "of the great pyramids of Egypt.\n",
      "\n",
      "Whoa.\n",
      "\n",
      "No.\n",
      "This is the coolest\n",
      "thing I've ever seen.\n",
      "We'll be going into\n",
      "the tombs of ancient pharaohs.\n",
      "Passageway we're in leads to what\n",
      "Egyptologists say is King Khufu's tomb.\n",
      "The pharaoh who may have\n",
      "ordered the pyramids to be built.\n",
      "\n",
      "Whoa.\n",
      "\n",
      "Hey.\n",
      "This room is\n",
      "called the Grand Gallery.\n",
      "What percentage of this pyramid do\n",
      "you think we've seen so far?\n",
      "We might never know\n",
      "the answer to that question.\n",
      "That's the coolest way\n",
      "he could have answered that.\n",
      "This next room, the highest point\n",
      "in the largest ancient pyramid on Earth.\n",
      "\n",
      "Woo.\n",
      "That\n",
      "was awesome.\n",
      "Before we go explore the other giant\n",
      "pyramids, I wanna show you guys base camp.\n",
      "Yeah, this\n",
      "is nice.\n",
      "We got a dinner table, some\n",
      "tents to sleep in, and yo.\n",
      "\n",
      "Wow.\n",
      "\n",
      "Okay.\n",
      "We even brought lights so you\n",
      "could see the pyramids from camp.\n",
      "That's gotta be the most\n",
      "expensive nightlight that's ever existed.\n",
      "This is the pyramid\n",
      "we're gonna explore tomorrow.\n",
      "I wanna start at\n",
      "5am Everyone get some.\n",
      "These pyramids were so technologically advanced for their time that some credit them\n",
      "to a pre Egyptian civilization, while some point to even crazier theories, like aliens.\n",
      "But Egyptologists are sure that they were built\n",
      "by the first Egyptians as tombs for their kings.\n",
      "And by the end of this video, we're going\n",
      "to find out which of these theories is true.\n",
      "All right, boys, I hope you're ready\n",
      "to explore the next pyramid on our list.\n",
      "The pyramid\n",
      "of Khafre.\n",
      "What is special\n",
      "about this monstrosity?\n",
      "Well, this pyramid is how we learn\n",
      "how the casings of each pyramid look like.\n",
      "This is how they all\n",
      "look like at some point.\n",
      "That was right after\n",
      "the aliens built them.\n",
      "No\n",
      "aliens.\n",
      "Rami led us nearly 100ft below\n",
      "the Earth's surface, deep into Khafre's pyramid.\n",
      "This is a place where hardly anyone\n",
      "in the modern world has ever been.\n",
      "So to be honest, we had no\n",
      "idea what to expect going down here.\n",
      "The ancient\n",
      "Egyptians had cardboard.\n",
      "We believe that this was the burial\n",
      "chamber for King Khafre for the longest time.\n",
      "And now they're using\n",
      "it to store stuff.\n",
      "Well, they're restoring\n",
      "the pyramid, Jimmy.\n",
      "They gotta\n",
      "use tools.\n",
      "So that means there's\n",
      "a real burial chamber.\n",
      "\n",
      "Yes.\n",
      "Rami actually took us to the real resting place\n",
      "thought to have once held the body of King Khafre.\n",
      "I see\n",
      "a big ceiling.\n",
      "\n",
      "Whoa.\n"
     ]
    }
   ],
   "source": [
    "for sentence in sentences:\n",
    "    sentence_list = sentence.text.split()\n",
    "    half = int(len(sentence_list)/2)\n",
    "    print(' '.join(sentence_list[:int(len(sentence_list)/2)]))\n",
    "    print(' '.join(sentence_list[half:]))"
   ]
  },
  {
   "cell_type": "code",
   "execution_count": null,
   "id": "36705d11",
   "metadata": {},
   "outputs": [],
   "source": [
    "output = []\n",
    "i=1\n",
    "with open(\"output.srt\", \"w\") as srt_file:\n",
    "    for sentence in sentences:\n",
    "        #Format output into srt format\n",
    "        output.append(f'{sentence.text} {sentence.start}-{sentence.end}')\n",
    "        \n",
    "        sentence_list = sentence.text.split()\n",
    "        if len(sentence_list) > 12:\n",
    "            half_time = (sentence.start + sentence.end) / 2\n",
    "            \n",
    "            write_srt(srt_file, i, ' '.join(sentence_list[:int(len(sentence_list)/2)]), sentence.start. halfway)\n",
    "            i+=1\n",
    "            write_srt(srt_file, i, ' '.join(sentence_list[int(len(sentence_list)/2):]), half, sentence.end)\n",
    "        \n",
    "    "
   ]
  }
 ],
 "metadata": {
  "kernelspec": {
   "display_name": ".venv",
   "language": "python",
   "name": "python3"
  },
  "language_info": {
   "codemirror_mode": {
    "name": "ipython",
    "version": 3
   },
   "file_extension": ".py",
   "mimetype": "text/x-python",
   "name": "python",
   "nbconvert_exporter": "python",
   "pygments_lexer": "ipython3",
   "version": "3.11.0"
  }
 },
 "nbformat": 4,
 "nbformat_minor": 5
}
